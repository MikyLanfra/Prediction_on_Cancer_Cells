{
 "cells": [
  {
   "cell_type": "markdown",
   "metadata": {},
   "source": [
    "# Prediction on Dropseq Dataset"
   ]
  },
  {
   "cell_type": "markdown",
   "metadata": {},
   "source": [
    "## Imports"
   ]
  },
  {
   "cell_type": "code",
   "execution_count": 1,
   "metadata": {},
   "outputs": [
    {
     "name": "stdout",
     "output_type": "stream",
     "text": [
      "processing.py loaded\n",
      "data_analysis.py loaded\n",
      "dim_reduction.py loaded\n",
      "modeling.py loaded successfully\n"
     ]
    }
   ],
   "source": [
    "#Importing libraries\n",
    "from Utils.data_analysis import *\n",
    "from Utils.processing import *\n",
    "from Utils.dim_reduction import *\n",
    "from Utils.modeling import *\n",
    "\n",
    "from sklearn.model_selection import train_test_split\n",
    "import warnings, csv\n",
    "warnings.simplefilter(\"ignore\")\n",
    "%matplotlib inline     \n",
    "sns.set_theme(color_codes=True)"
   ]
  },
  {
   "cell_type": "code",
   "execution_count": 2,
   "metadata": {},
   "outputs": [],
   "source": [
    "df_HCC_model = pd.read_csv(\"Data/dropseq_data/HCC1806_Filtered_Normalised_3000_Data_train.txt\", delimiter=\"\\ \",engine='python',index_col=0, quoting=csv.QUOTE_NONE)\n",
    "df_MCF_model = pd.read_csv(\"Data/dropseq_data/MCF7_Filtered_Normalised_3000_Data_train.txt\", delimiter=\"\\ \",engine='python',index_col=0, quoting=csv.QUOTE_NONE)\n",
    "\n",
    "y_HCC = get_oxia(df_HCC_model.T)\n",
    "X_HCC = df_HCC_model.T\n",
    "\n",
    "y_MCF = get_oxia(df_MCF_model.T)\n",
    "X_MCF = df_MCF_model.T\n",
    "\n",
    "X_HCC_tr, X_HCC_ts, y_HCC_tr, y_HCC_ts = train_test_split(X_HCC, y_HCC, test_size=0.2, random_state=42)\n",
    "X_MCF_tr, X_MCF_ts, y_MCF_tr, y_MCF_ts = train_test_split(X_MCF, y_MCF, test_size=0.2, random_state=42)"
   ]
  },
  {
   "cell_type": "markdown",
   "metadata": {},
   "source": [
    "## Supervised Dimensionality Reduction"
   ]
  },
  {
   "cell_type": "code",
   "execution_count": null,
   "metadata": {},
   "outputs": [],
   "source": [
    "X_HCC_pca_supervised, HCC_pca = supervised_pca(X_HCC_tr, y_HCC_tr)\n",
    "plot_2d(X_HCC_pca_supervised, y_HCC_tr, 'HCC1806', 'Supervised PCA')\n",
    "\n",
    "X_MCF_pca_supervised, MCF_pca = supervised_pca(X_MCF_tr, y_MCF_tr)\n",
    "plot_2d(X_MCF_pca_supervised, y_MCF_tr, 'MCF7', 'Supervised PCA')\n",
    "\n",
    "y_HCC_pca = dim_red_predictor(X_HCC_pca_supervised[['X1', 'X2']], y_HCC_tr, X_HCC_ts, HCC_pca)\n",
    "y_MCF_pca = dim_red_predictor(X_MCF_pca_supervised[['X1', 'X2']], y_MCF_tr, X_MCF_ts, MCF_pca)\n",
    "\n",
    "print(\"Accuracy of HCC1806 PCA: \", accuracy_score(y_HCC_ts, y_HCC_pca))\n",
    "print(\"Accuracy of MCF7 PCA: \", accuracy_score(y_MCF_ts, y_MCF_pca))"
   ]
  },
  {
   "cell_type": "code",
   "execution_count": null,
   "metadata": {},
   "outputs": [],
   "source": [
    "X_HCC_tsne_supervised, HCC_tsne = supervised_tsne(X_HCC_tr, y_HCC_tr)\n",
    "plot_2d(X_HCC_tsne_supervised, y_HCC_tr, 'HCC1806', 'Supervised t-SNE')\n",
    "\n",
    "X_MCF_tsne_supervised, MCF_tsne = supervised_tsne(X_MCF_tr, y_MCF_tr)\n",
    "plot_2d(X_MCF_tsne_supervised, y_MCF_tr, 'MCF7', 'Supervised t-SNE')\n",
    "\n",
    "y_HCC_tsne = dim_red_predictor(X_HCC_tsne_supervised[['X1', 'X2']], y_HCC_tr, X_HCC_ts, HCC_tsne)\n",
    "y_MCF_tsne = dim_red_predictor(X_MCF_tsne_supervised[['X1', 'X2']], y_MCF_tr, X_MCF_ts, MCF_tsne)\n",
    "\n",
    "print(\"Accuracy of HCC1806 t-SNE: \", accuracy_score(y_HCC_ts, y_HCC_tsne))\n",
    "print(\"Accuracy of MCF7 t-SNE: \", accuracy_score(y_MCF_ts, y_MCF_tsne))"
   ]
  },
  {
   "cell_type": "code",
   "execution_count": null,
   "metadata": {},
   "outputs": [],
   "source": [
    "X_HCC_umap_supervised, HCC_umap = supervised_umap(X_HCC_tr, y_HCC_tr)\n",
    "plot_2d(X_HCC_umap_supervised, y_HCC_tr, 'HCC1806', 'Supervised UMAP')\n",
    "\n",
    "X_MCF_umap_supervised, MCF_umap = supervised_umap(X_MCF_tr, y_MCF_tr)\n",
    "plot_2d(X_MCF_umap_supervised, y_MCF_tr, 'MCF7', 'Supervised UMAP')\n",
    "\n",
    "y_HCC_umap = dim_red_predictor(X_HCC_umap_supervised[['X1', 'X2']], y_HCC_tr, X_HCC_ts, HCC_umap)\n",
    "y_MCF_umap = dim_red_predictor(X_MCF_umap_supervised[['X1', 'X2']], y_MCF_tr, X_MCF_ts, MCF_umap)\n",
    "\n",
    "print(\"Accuracy of HCC1806 UMAP: \", accuracy_score(y_HCC_ts, y_HCC_umap))\n",
    "print(\"Accuracy of MCF7 UMAP: \", accuracy_score(y_MCF_ts, y_MCF_umap))"
   ]
  },
  {
   "cell_type": "markdown",
   "metadata": {},
   "source": [
    "## Clustering"
   ]
  },
  {
   "cell_type": "code",
   "execution_count": null,
   "metadata": {},
   "outputs": [],
   "source": [
    "kmeans_HCC = KMeans(n_clusters=2, random_state=1).fit(X_HCC)\n",
    "kmeans_HCC_score = clustering_plot(X_HCC, y_HCC, kmeans_HCC.labels_, 'HCC1806: K-means clustering')\n",
    "\n",
    "kmeans_MCF = KMeans(n_clusters=2, random_state=42).fit(X_MCF)\n",
    "kmeans_MCF_score = clustering_plot(X_MCF, y_MCF, kmeans_MCF.labels_, 'MCF7: K-means clustering')"
   ]
  },
  {
   "cell_type": "code",
   "execution_count": null,
   "metadata": {},
   "outputs": [],
   "source": [
    "gmm_HCC = GaussianMixture(n_components=2, random_state=1).fit(X_HCC)\n",
    "gmm_HCC_score = clustering_plot(X_HCC, y_HCC, gmm_HCC.predict(X_HCC), 'HCC1806: Gaussian Mixture Model clustering')\n",
    "\n",
    "gmm_MCF = GaussianMixture(n_components=2).fit(X_MCF)\n",
    "gmm_MCF_score = clustering_plot(X_MCF, y_MCF, gmm_MCF.predict(X_MCF), 'MCF7: Gaussian Mixture Model clustering')"
   ]
  },
  {
   "cell_type": "markdown",
   "metadata": {},
   "source": [
    "## Logistic Regression"
   ]
  }
 ],
 "metadata": {
  "kernelspec": {
   "display_name": "MLAI",
   "language": "python",
   "name": "python3"
  },
  "language_info": {
   "codemirror_mode": {
    "name": "ipython",
    "version": 3
   },
   "file_extension": ".py",
   "mimetype": "text/x-python",
   "name": "python",
   "nbconvert_exporter": "python",
   "pygments_lexer": "ipython3",
   "version": "3.12.2"
  }
 },
 "nbformat": 4,
 "nbformat_minor": 2
}
